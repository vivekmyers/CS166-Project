{
 "cells": [
  {
   "cell_type": "code",
   "execution_count": 1,
   "metadata": {},
   "outputs": [],
   "source": [
    "data PriorityQueue e a = PQ {added :: BPQ e a, deleted :: BPQ e a} deriving Show\n",
    "\n",
    "cleanup pq@PQ {added = Empty} = pq\n",
    "cleanup pq@PQ {deleted = Empty} = pq\n",
    "cleanup pq@PQ {added = a, deleted = d}\n",
    "    | findMin' a == findMin' d && findP' a == findP' d = cleanup $ PQ (deleteMin' a) (deleteMin' d)\n",
    "    | otherwise = pq\n",
    "\n",
    "new :: (Eq e, Ord a) => PriorityQueue e a\n",
    "new = PQ Empty Empty\n",
    "\n",
    "isEmpty :: (Eq e, Ord a) => PriorityQueue e a -> Bool\n",
    "isEmpty PQ {added = Empty} = True\n",
    "isEmpty _ = False \n",
    "\n",
    "add :: (Eq e, Ord a) => e -> a -> PriorityQueue e a -> PriorityQueue e a\n",
    "add x p pq = pq {added = insert' x p $ added pq}\n",
    "\n",
    "poll :: (Eq e, Ord a) => PriorityQueue e a -> (e, PriorityQueue e a)\n",
    "poll PQ {added = Empty} = empty\n",
    "poll pq = (first, cleanup . PQ rest $ deleted pq)\n",
    "    where first = findMin' . added $ pq\n",
    "          rest = deleteMin' . added $ pq\n",
    "\n",
    "merge :: (Eq e, Ord a) => PriorityQueue e a -> PriorityQueue e a -> PriorityQueue e a\n",
    "merge a b = PQ (meld' (added a) (added b)) (meld' (deleted a) (deleted b))\n",
    "\n",
    "decrease :: (Eq e, Ord a) => e -> a -> a -> PriorityQueue e a -> PriorityQueue e a \n",
    "decrease x p q pq\n",
    "    | q < p = cleanup $ PQ (insert' x q $ added pq) (insert' x p $ deleted pq)\n",
    "    | otherwise = error \"must decrease key\"\n",
    "\n",
    "addAll :: (Eq e, Ord a) => [(e, a)] -> PriorityQueue e a -> PriorityQueue e a\n",
    "addAll list pq = foldr (uncurry add) pq list\n",
    "\n",
    "toList :: (Eq e, Ord a) => PriorityQueue e a -> [e]\n",
    "toList pq\n",
    "    | isEmpty pq = []\n",
    "    | otherwise = x : toList rest\n",
    "    where (x, rest) = poll pq\n",
    "\n",
    "data BPQ e a = Empty | BPQ (e, a) [Tree (BPQ e a) a] deriving Show\n",
    "\n",
    "findMin' Empty = empty\n",
    "findMin' (BPQ (e, a) _) = e\n",
    "\n",
    "findP' Empty = empty\n",
    "findP' (BPQ (e, a) _) = a\n",
    "\n",
    "insert' x p q = meld' (BPQ (x, p) []) q\n",
    "\n",
    "meld' a Empty = a\n",
    "meld' Empty b = b\n",
    "meld' (BPQ x1@(_, p1) q1) (BPQ x2@(_, p2) q2)\n",
    "    | p1 <= p2 = BPQ x1 $ insert (BPQ x2 q2) p2 q1\n",
    "    | otherwise = BPQ x2 $ insert (BPQ x1 q1) p1 q2\n",
    "    \n",
    "deleteMin' (BPQ _ []) = Empty\n",
    "deleteMin' (BPQ x q) = BPQ y $ meld q1 q2\n",
    "    where BPQ y q1 = fst . findMin $ q\n",
    "          q2 = deleteMin q\n",
    "\n",
    "data Tree e a = Node {\n",
    "    root :: e, \n",
    "    priority :: a, \n",
    "    rank :: Integer, \n",
    "    children :: [Tree e a]\n",
    "    } deriving Show\n",
    "\n",
    "link (Node e1 a1 r1 c1) (Node e2 a2 r2 c2)\n",
    "    | a1 > a2 = Node e2 a2 (r2 + 1) $ Node e1 a1 r1 c1 : c2\n",
    "    | otherwise = Node e1 a1 (r1 + 1) $ Node e2 a2 r2 c2 : c1\n",
    "\n",
    "skewLink t0@(Node e0 a0 r0 c0) t1@(Node e1 a1 r1 c1) t2@(Node e2 a2 r2 c2) \n",
    "    | a1 <= a0 && a1 <= a2 = Node e1 a1 (r1 + 1) $ t0 : t2 : c1\n",
    "    | a2 <= a0 && a2 <= a1 = Node e2 a2 (r2 + 1) $ t0 : t1 : c2\n",
    "    | otherwise = Node e0 a0 (r1 + 1) [t1, t2]\n",
    "\n",
    "ins t [] = [t]\n",
    "ins t (t':ts)\n",
    "    | rank t < rank t' = t : t' : ts\n",
    "    | otherwise = flip ins ts $ link t t'\n",
    "\n",
    "uniquify [] = []\n",
    "uniquify (t:ts) = ins t ts\n",
    "\n",
    "meldUniq [] ts = ts\n",
    "meldUniq ts [] = ts\n",
    "meldUniq (t1:ts1) (t2:ts2)\n",
    "    | rank t1 < rank t2 = t1 : meldUniq ts1 (t2 : ts2)\n",
    "    | rank t2 < rank t1 = t2 : meldUniq (t1:ts1) ts2\n",
    "    | otherwise = ins (link t1 t2) $ meldUniq ts1 ts2\n",
    "\n",
    "insert x p ts@(t1:t2:rest)\n",
    "    | rank t1 == rank t2 = skewLink (Node x p 0 []) t1 t2 : rest\n",
    "    | otherwise = Node x p 0 [] : ts\n",
    "insert x p ts = Node x p 0 [] : ts\n",
    "\n",
    "meld ts ts' = meldUniq (uniquify ts) $ uniquify ts'\n",
    "\n",
    "empty = error \"empty queue\"\n",
    "\n",
    "findMin [] = empty\n",
    "findMin [t] = (root t, priority t)\n",
    "findMin (t:ts)\n",
    "    | priority t <= p = (root t, priority t)\n",
    "    | otherwise = (x, p)\n",
    "    where (x, p) = findMin ts\n",
    "    \n",
    "deleteMin [] = empty\n",
    "deleteMin ts = foldr (uncurry insert) (meld ts'' ts') xs'\n",
    "    where \n",
    "        getMin [t] = (t, [])\n",
    "        getMin (t:ts)\n",
    "            | priority t <= priority t' = (t, ts)\n",
    "            | otherwise = (t', t:ts')\n",
    "            where (t', ts') = getMin ts\n",
    "        split ts xs [] = (ts, xs)\n",
    "        split ts xs (t:c)\n",
    "            | rank t == 0 = split ts ((root t, priority t) : xs) c\n",
    "            | otherwise = split (t : ts) xs c\n",
    "        (Node x p r c, ts'') = getMin ts\n",
    "        (ts', xs') = split [] [] c"
   ]
  },
  {
   "cell_type": "code",
   "execution_count": 2,
   "metadata": {},
   "outputs": [],
   "source": [
    "toll [] = []\n",
    "toll chi = fst (findMin chi) : toll (deleteMin chi)"
   ]
  },
  {
   "cell_type": "code",
   "execution_count": 6,
   "metadata": {},
   "outputs": [
    {
     "data": {
      "text/plain": [
       "[20,21,18,16,19,17,14,12,15,10,13,11,8,6,9,7,4,2,5,3]"
      ]
     },
     "metadata": {},
     "output_type": "display_data"
    }
   ],
   "source": [
    "tol Empty = []\n",
    "tol chi = findMin' chi : tol (deleteMin' chi)\n",
    "\n",
    "a= foldr (\\i -> add (2*i) (-i)) new [1..10]\n",
    "b= foldr (\\i -> add (2*i+1) (-i+1)) new [1..10]\n",
    "toList $ merge a b"
   ]
  },
  {
   "cell_type": "code",
   "execution_count": 4,
   "metadata": {},
   "outputs": [
    {
     "data": {
      "text/plain": [
       "(3,-2)"
      ]
     },
     "metadata": {},
     "output_type": "display_data"
    }
   ],
   "source": [
    "findMin $ insert 3 (-2) (insert 2 (-2) [])"
   ]
  },
  {
   "cell_type": "code",
   "execution_count": 7,
   "metadata": {},
   "outputs": [
    {
     "data": {
      "text/plain": [
       "[20,21,18,16,19,17,14,12,15,10,13,11,8,6,9,7,4,2,5,3]"
      ]
     },
     "metadata": {},
     "output_type": "display_data"
    }
   ],
   "source": [
    "pq1 = addAll [(2*i, -i) | i <- [1..10]] new\n",
    "pq2 = addAll [(2*i+1, -i+1) | i <- [1..10]] new\n",
    "print $ toList $ merge pq1 pq2"
   ]
  },
  {
   "cell_type": "code",
   "execution_count": 5,
   "metadata": {},
   "outputs": [
    {
     "data": {
      "text/html": [
       "<style>/* Styles used for the Hoogle display in the pager */\n",
       ".hoogle-doc {\n",
       "display: block;\n",
       "padding-bottom: 1.3em;\n",
       "padding-left: 0.4em;\n",
       "}\n",
       ".hoogle-code {\n",
       "display: block;\n",
       "font-family: monospace;\n",
       "white-space: pre;\n",
       "}\n",
       ".hoogle-text {\n",
       "display: block;\n",
       "}\n",
       ".hoogle-name {\n",
       "color: green;\n",
       "font-weight: bold;\n",
       "}\n",
       ".hoogle-head {\n",
       "font-weight: bold;\n",
       "}\n",
       ".hoogle-sub {\n",
       "display: block;\n",
       "margin-left: 0.4em;\n",
       "}\n",
       ".hoogle-package {\n",
       "font-weight: bold;\n",
       "font-style: italic;\n",
       "}\n",
       ".hoogle-module {\n",
       "font-weight: bold;\n",
       "}\n",
       ".hoogle-class {\n",
       "font-weight: bold;\n",
       "}\n",
       ".get-type {\n",
       "color: green;\n",
       "font-weight: bold;\n",
       "font-family: monospace;\n",
       "display: block;\n",
       "white-space: pre-wrap;\n",
       "}\n",
       ".show-type {\n",
       "color: green;\n",
       "font-weight: bold;\n",
       "font-family: monospace;\n",
       "margin-left: 1em;\n",
       "}\n",
       ".mono {\n",
       "font-family: monospace;\n",
       "display: block;\n",
       "}\n",
       ".err-msg {\n",
       "color: red;\n",
       "font-style: italic;\n",
       "font-family: monospace;\n",
       "white-space: pre;\n",
       "display: block;\n",
       "}\n",
       "#unshowable {\n",
       "color: red;\n",
       "font-weight: bold;\n",
       "}\n",
       ".err-msg.in.collapse {\n",
       "padding-top: 0.7em;\n",
       "}\n",
       ".highlight-code {\n",
       "white-space: pre;\n",
       "font-family: monospace;\n",
       "}\n",
       ".suggestion-warning { \n",
       "font-weight: bold;\n",
       "color: rgb(200, 130, 0);\n",
       "}\n",
       ".suggestion-error { \n",
       "font-weight: bold;\n",
       "color: red;\n",
       "}\n",
       ".suggestion-name {\n",
       "font-weight: bold;\n",
       "}\n",
       "</style><div class=\"suggestion-name\" style=\"clear:both;\">Redundant $</div><div class=\"suggestion-row\" style=\"float: left;\"><div class=\"suggestion-warning\">Found:</div><div class=\"highlight-code\" id=\"haskell\">toll $ a</div></div><div class=\"suggestion-row\" style=\"float: left;\"><div class=\"suggestion-warning\">Why Not:</div><div class=\"highlight-code\" id=\"haskell\">toll a</div></div>"
      ],
      "text/plain": [
       "Line 1: Redundant $\n",
       "Found:\n",
       "toll $ a\n",
       "Why not:\n",
       "toll a"
      ]
     },
     "metadata": {},
     "output_type": "display_data"
    },
    {
     "data": {
      "text/plain": [
       "[3,2]"
      ]
     },
     "metadata": {},
     "output_type": "display_data"
    }
   ],
   "source": [
    "a= foldr (\\i -> insert (2*i+1) (-2*i)) (foldr (\\i -> insert (2*i) (-2*i)) [] [1..1]) [1..1]\n",
    "toll $ a"
   ]
  }
 ],
 "metadata": {
  "kernelspec": {
   "display_name": "Haskell",
   "language": "haskell",
   "name": "haskell"
  },
  "language_info": {
   "codemirror_mode": "ihaskell",
   "file_extension": ".hs",
   "name": "haskell",
   "pygments_lexer": "Haskell",
   "version": "8.2.2"
  }
 },
 "nbformat": 4,
 "nbformat_minor": 2
}
